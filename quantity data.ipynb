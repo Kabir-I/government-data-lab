{
 "cells": [
  {
   "cell_type": "code",
   "execution_count": 1,
   "id": "7655d375",
   "metadata": {},
   "outputs": [],
   "source": [
    "import pandas as pd\n",
    "import matplotlib"
   ]
  },
  {
   "cell_type": "code",
   "execution_count": 2,
   "id": "71e1e1db",
   "metadata": {},
   "outputs": [],
   "source": [
    "file = 'ffpub21.csv'"
   ]
  },
  {
   "cell_type": "code",
   "execution_count": 3,
   "id": "f18ae5d4",
   "metadata": {},
   "outputs": [
    {
     "name": "stdout",
     "output_type": "stream",
     "text": [
      "<bound method NDFrame.head of        FPOVCUT  FPERSONS  FHEADIDX  FSPOUIDX  FOWNU6  FRELU6  FKIND  FKINDEX  \\\n",
      "0        20244         3         1         2       0       0      1        1   \n",
      "1        20244         3         1         2       0       0      1        1   \n",
      "2        12413         1         1         0       0       0      2        3   \n",
      "3        17839         2         1         0       0       0      2        3   \n",
      "4        13465         1         3         0       0       0      3        4   \n",
      "...        ...       ...       ...       ...     ...     ...    ...      ...   \n",
      "73146    37174         3         4         5       1       1      1        1   \n",
      "73147    13465         1         1         0       0       0      2        3   \n",
      "73148    12413         1         1         0       0       0      2        3   \n",
      "73149    15644         2         1         2       0       0      1        1   \n",
      "73150    17331         2         1         2       0       0      1        2   \n",
      "\n",
      "       FTYPE  FRELU18  ...  F_MV_SL  I_FHIPVAL  I_FHIPVAL2  I_FMEDVAL  \\\n",
      "0          1        0  ...        0          1           1          0   \n",
      "1          1        0  ...        0          0           0          0   \n",
      "2          2        0  ...        0          1           1          0   \n",
      "3          1        1  ...      105          0           0          0   \n",
      "4          5        0  ...        0          0           0          0   \n",
      "...      ...      ...  ...      ...        ...         ...        ...   \n",
      "73146      3        1  ...        0          1           1          1   \n",
      "73147      2        0  ...        0          3           3          3   \n",
      "73148      2        0  ...        0          0           0          0   \n",
      "73149      1        0  ...        0          0           0          0   \n",
      "73150      1        0  ...        0          3           3          3   \n",
      "\n",
      "       I_FMOOP  I_FMOOP2  I_FOTCVAL  POVLL  FILEDATE  YYYYMM  \n",
      "0            1         1          0      5     81921  202103  \n",
      "1            0         0          0     14     81921  202103  \n",
      "2            1         1          1      5     81921  202103  \n",
      "3            0         0          0      1     81921  202103  \n",
      "4            0         0          0     12     81921  202103  \n",
      "...        ...       ...        ...    ...       ...     ...  \n",
      "73146        1         1          1     12     81921  202103  \n",
      "73147        3         3          3     12     81921  202103  \n",
      "73148        0         0          0      7     81921  202103  \n",
      "73149        0         0          0     14     81921  202103  \n",
      "73150        3         3          3     10     81921  202103  \n",
      "\n",
      "[73151 rows x 85 columns]>\n"
     ]
    }
   ],
   "source": [
    "df = pd.read_csv(file)\n",
    "print(df.head)"
   ]
  },
  {
   "cell_type": "code",
   "execution_count": 4,
   "id": "f4a1637f",
   "metadata": {},
   "outputs": [
    {
     "name": "stdout",
     "output_type": "stream",
     "text": [
      "['FPOVCUT', 'FPERSONS', 'FHEADIDX', 'FSPOUIDX', 'FOWNU6', 'FRELU6', 'FKIND', 'FKINDEX', 'FTYPE', 'FRELU18', 'FOWNU18', 'FLASTIDX', 'FMLASIDX', 'FH_SEQ', 'FAMLIS', 'FANNVAL', 'FCSPVAL', 'FDISVAL', 'FDIVVAL', 'FDSTVAL', 'FEARNVAL', 'FEDVAL', 'FFINVAL', 'FFPOS', 'FFRVAL', 'FHIP_VAL', 'FHIP_VAL2', 'FINC_ANN', 'FINC_CSP', 'FINC_DIS', 'FINC_DIV', 'FINC_DST', 'FINC_ED', 'FINC_FIN', 'FINC_FR', 'FINC_INT', 'FINC_OI', 'FINC_PAW', 'FINC_PEN', 'FINC_RNT', 'FINC_SE', 'FINC_SS', 'FINC_SSI', 'FINC_SUR', 'FINC_UC', 'FINC_VET', 'FINC_WC', 'FINC_WS', 'FINTVAL', 'FMED_VAL', 'FMOOP', 'FMOOP2', 'FOIVAL', 'FOTC_VAL', 'FOTHVAL', 'FPAWVAL', 'FPCTCUT', 'FPENVAL', 'FRECORD', 'FRNTVAL', 'FRSPOV', 'FRSPPCT', 'FSEVAL', 'FSPANISH', 'FSSIVAL', 'FSSVAL', 'FSUP_WGT', 'FSURVAL', 'FTOTVAL', 'FTOT_R', 'FUCVAL', 'FVETVAL', 'FWCVAL', 'FWSVAL', 'F_MV_FS', 'F_MV_SL', 'I_FHIPVAL', 'I_FHIPVAL2', 'I_FMEDVAL', 'I_FMOOP', 'I_FMOOP2', 'I_FOTCVAL', 'POVLL', 'FILEDATE', 'YYYYMM']\n",
      "73151\n",
      "85\n"
     ]
    }
   ],
   "source": [
    "print(list(df))\n",
    "print(len(df))\n",
    "print(len(list(df)))"
   ]
  },
  {
   "cell_type": "code",
   "execution_count": 5,
   "id": "e6a7f74c",
   "metadata": {},
   "outputs": [
    {
     "name": "stdout",
     "output_type": "stream",
     "text": [
      "   Kind of family   freq\n",
      "0               1  32306\n",
      "2               2  17439\n",
      "1               3  23406\n"
     ]
    }
   ],
   "source": [
    "col = 'FKIND'\n",
    "col_name = 'Kind of family'\n",
    "freq = df[col].value_counts().rename_axis(col_name).reset_index(name='freq')\n",
    "freq = freq.sort_values(by = col_name)\n",
    "print(freq)"
   ]
  },
  {
   "cell_type": "code",
   "execution_count": 6,
   "id": "953e9d2b",
   "metadata": {},
   "outputs": [
    {
     "name": "stdout",
     "output_type": "stream",
     "text": [
      "            Kind of family   freq\n",
      "0           Married couple  32306\n",
      "2    Male reference person  17439\n",
      "1  Female reference person  23406\n"
     ]
    }
   ],
   "source": [
    "codebook = [['1', 'Married couple'],\n",
    "            ['2', 'Male reference person'],\n",
    "            ['3', 'Female reference person']]\n",
    "for lbl in codebook:\n",
    "    freq[col_name] = freq[col_name].replace(int(lbl[0]), lbl[1])\n",
    "    \n",
    "print(freq)"
   ]
  },
  {
   "cell_type": "code",
   "execution_count": 7,
   "id": "b6e64ffc",
   "metadata": {},
   "outputs": [
    {
     "data": {
      "image/png": "[encoded data removed]",
      "text/plain": [
       "<Figure size 432x288 with 1 Axes>"
      ]
     },
     "metadata": {
      "needs_background": "light"
     },
     "output_type": "display_data"
    }
   ],
   "source": [
    "ax = freq.plot.barh(x=col_name, y='freq')"
   ]
  },
  {
   "cell_type": "code",
   "execution_count": 8,
   "id": "ce1942f4",
   "metadata": {},
   "outputs": [
    {
     "name": "stdout",
     "output_type": "stream",
     "text": [
      "2.3182594906426433\n",
      "2.0\n",
      "1.4604262563667194\n"
     ]
    }
   ],
   "source": [
    "quant_col = 'FPERSONS'\n",
    "mean = df[quant_col].mean()\n",
    "print(mean)\n",
    "\n",
    "median = df[quant_col].median()\n",
    "print(median)\n",
    "\n",
    "standard_deviation = df[quant_col].std()\n",
    "print(standard_deviation)"
   ]
  }
 ],
 "metadata": {
  "kernelspec": {
   "display_name": "Python 3 (ipykernel)",
   "language": "python",
   "name": "python3"
  },
  "language_info": {
   "codemirror_mode": {
    "name": "ipython",
    "version": 3
   },
   "file_extension": ".py",
   "mimetype": "text/x-python",
   "name": "python",
   "nbconvert_exporter": "python",
   "pygments_lexer": "ipython3",
   "version": "3.9.12"
  }
 },
 "nbformat": 4,
 "nbformat_minor": 5
}
